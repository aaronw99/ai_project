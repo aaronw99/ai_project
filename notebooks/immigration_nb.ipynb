{
 "cells": [
  {
   "cell_type": "code",
   "execution_count": 1,
   "metadata": {},
   "outputs": [],
   "source": [
    "import numpy as np\n",
    "import pandas as pd\n",
    "import matplotlib.pyplot as plt\n",
    "import seaborn as sns\n",
    "import networkx as nx\n",
    "from sklearn.model_selection import train_test_split, cross_val_score\n",
    "from sklearn.preprocessing import PolynomialFeatures\n",
    "from sklearn.linear_model import LinearRegression\n",
    "from sklearn.metrics import r2_score"
   ]
  },
  {
   "cell_type": "code",
   "execution_count": 2,
   "metadata": {},
   "outputs": [],
   "source": [
    "pd.options.mode.chained_assignment = None  # remove pd indexing warning"
   ]
  },
  {
   "cell_type": "code",
   "execution_count": 3,
   "metadata": {},
   "outputs": [],
   "source": [
    "df = pd.read_excel('Canada.xlsx',\n",
    "                   sheet_name='Canada by Citizenship',\n",
    "                   skiprows = range(20),\n",
    "                   skipfooter = 2)"
   ]
  },
  {
   "cell_type": "code",
   "execution_count": 4,
   "metadata": {
    "scrolled": false
   },
   "outputs": [],
   "source": [
    "columns = ['OdName']\n",
    "for year in range(1980, 2014):\n",
    "    columns.append(year)\n",
    "df = df.filter(columns)"
   ]
  },
  {
   "cell_type": "code",
   "execution_count": 5,
   "metadata": {},
   "outputs": [],
   "source": [
    "'''\n",
    "dictionary of populations for each country we will be use, using 2004 data (in millions)\n",
    "\n",
    "The 4 archetypes:\n",
    "C1 = resource-rich, dense\n",
    "C2 = resource-rich, sparse\n",
    "C3 = resource-poor, dense\n",
    "C4 = resource-poor, sparse\n",
    "'''\n",
    "populations = {\n",
    "    \"Singapore\": ('C1', 4.167),\n",
    "    \"Netherlands\": ('C1', 16.26),\n",
    "    \"United Kingdom\": ('C1', 59.79),\n",
    "    \"Australia\": ('C2', 20.13),\n",
    "    \"Sweden\": ('C2', 8.976),\n",
    "    \"United States\": ('C2', 292.8),\n",
    "    \"Lebanon\": ('C3', 4.569),\n",
    "    \"India\": ('C3', 1131),\n",
    "    \"Philippines\": ('C3', 84.71),\n",
    "    \"Libya\": ('C4', 5.71),\n",
    "    \"Bolivia\": ('C4', 9.069),\n",
    "    \"Iran\": ('C4', 68.95)\n",
    "}"
   ]
  },
  {
   "cell_type": "code",
   "execution_count": 6,
   "metadata": {},
   "outputs": [
    {
     "data": {
      "text/plain": [
       "'\\nPlan: \\n\\nUse supervised learning to predict immigration levels into Atlantis\\n\\nHave 2 developed countries: Atlantis & \\nOther 3 countries are developing\\n\\nWe need a system using our current interfaces to build a turn-based game\\n\\nNeed a way to implement part 1 into an instance of a player, and also\\ninclude a game manager.\\n'"
      ]
     },
     "execution_count": 6,
     "metadata": {},
     "output_type": "execute_result"
    }
   ],
   "source": [
    "'''\n",
    "Plan: \n",
    "\n",
    "Use supervised learning to predict immigration levels into Atlantis\n",
    "\n",
    "Have 2 developed countries: Atlantis & \n",
    "Other 3 countries are developing\n",
    "\n",
    "We need a system using our current interfaces to build a turn-based game\n",
    "\n",
    "Need a way to implement part 1 into an instance of a player, and also\n",
    "include a game manager.\n",
    "'''"
   ]
  },
  {
   "cell_type": "code",
   "execution_count": 7,
   "metadata": {},
   "outputs": [],
   "source": [
    "countries_df = pd.DataFrame()"
   ]
  },
  {
   "cell_type": "code",
   "execution_count": 8,
   "metadata": {},
   "outputs": [],
   "source": [
    "for country in populations:\n",
    "    archetype = populations[country][0]\n",
    "    population = populations[country][1]\n",
    "    \n",
    "    country_df = df.loc[df[\"OdName\"] == country]\n",
    "    country_df['Arch'] = archetype\n",
    "    for year in range(1980, 2014):\n",
    "        country_df[year] /= population\n",
    "        \n",
    "    countries_df = countries_df.append(country_df)"
   ]
  },
  {
   "cell_type": "code",
   "execution_count": 9,
   "metadata": {},
   "outputs": [],
   "source": [
    "countries = populations.keys()\n",
    "df_collection = {}"
   ]
  },
  {
   "cell_type": "code",
   "execution_count": 10,
   "metadata": {},
   "outputs": [],
   "source": [
    "for country in countries:\n",
    "    country_df = pd.DataFrame(columns=['Year', 'Immigration'])\n",
    "    for year in range(1980, 2014):\n",
    "        year_df = pd.DataFrame({\n",
    "            \"Year\": [year],\n",
    "            \"Immigration\": countries_df[countries_df[\"OdName\"] == country][year]\n",
    "        })\n",
    "        country_df = country_df.append(year_df, ignore_index = True)\n",
    "    df_collection[country] = country_df"
   ]
  },
  {
   "cell_type": "code",
   "execution_count": 11,
   "metadata": {},
   "outputs": [],
   "source": [
    "models = {}"
   ]
  },
  {
   "cell_type": "code",
   "execution_count": 12,
   "metadata": {},
   "outputs": [
    {
     "name": "stdout",
     "output_type": "stream",
     "text": [
      "Country:  Singapore\n",
      "R2 Score: \n",
      "0.38634827222603085\n"
     ]
    },
    {
     "data": {
      "image/png": "[encoded data removed]",
      "text/plain": [
       "<Figure size 432x288 with 1 Axes>"
      ]
     },
     "metadata": {
      "needs_background": "light"
     },
     "output_type": "display_data"
    },
    {
     "name": "stdout",
     "output_type": "stream",
     "text": [
      "Country:  Netherlands\n",
      "R2 Score: \n",
      "0.7748507862184549\n"
     ]
    },
    {
     "data": {
      "image/png": "[encoded data removed]",
      "text/plain": [
       "<Figure size 432x288 with 1 Axes>"
      ]
     },
     "metadata": {
      "needs_background": "light"
     },
     "output_type": "display_data"
    },
    {
     "name": "stdout",
     "output_type": "stream",
     "text": [
      "Country:  United Kingdom\n",
      "R2 Score: \n",
      "0.8162650246675405\n"
     ]
    },
    {
     "data": {
      "image/png": "[encoded data removed]",
      "text/plain": [
       "<Figure size 432x288 with 1 Axes>"
      ]
     },
     "metadata": {
      "needs_background": "light"
     },
     "output_type": "display_data"
    },
    {
     "name": "stdout",
     "output_type": "stream",
     "text": [
      "Country:  Australia\n",
      "R2 Score: \n",
      "0.8130094732033053\n"
     ]
    },
    {
     "data": {
      "image/png": "[encoded data removed]",
      "text/plain": [
       "<Figure size 432x288 with 1 Axes>"
      ]
     },
     "metadata": {
      "needs_background": "light"
     },
     "output_type": "display_data"
    },
    {
     "name": "stdout",
     "output_type": "stream",
     "text": [
      "Country:  Sweden\n",
      "R2 Score: \n",
      "0.6275459380770312\n"
     ]
    },
    {
     "data": {
      "image/png": "[encoded data removed]",
      "text/plain": [
       "<Figure size 432x288 with 1 Axes>"
      ]
     },
     "metadata": {
      "needs_background": "light"
     },
     "output_type": "display_data"
    },
    {
     "name": "stdout",
     "output_type": "stream",
     "text": [
      "Country:  United States\n",
      "R2 Score: \n",
      "0.7488103451266153\n"
     ]
    },
    {
     "data": {
      "image/png": "[encoded data removed]",
      "text/plain": [
       "<Figure size 432x288 with 1 Axes>"
      ]
     },
     "metadata": {
      "needs_background": "light"
     },
     "output_type": "display_data"
    },
    {
     "name": "stdout",
     "output_type": "stream",
     "text": [
      "Country:  Lebanon\n",
      "R2 Score: \n",
      "0.46981802559426944\n"
     ]
    },
    {
     "data": {
      "image/png": "[encoded data removed]",
      "text/plain": [
       "<Figure size 432x288 with 1 Axes>"
      ]
     },
     "metadata": {
      "needs_background": "light"
     },
     "output_type": "display_data"
    },
    {
     "name": "stdout",
     "output_type": "stream",
     "text": [
      "Country:  India\n",
      "R2 Score: \n",
      "0.920355915680479\n"
     ]
    },
    {
     "data": {
      "image/png": "[encoded data removed]",
      "text/plain": [
       "<Figure size 432x288 with 1 Axes>"
      ]
     },
     "metadata": {
      "needs_background": "light"
     },
     "output_type": "display_data"
    },
    {
     "name": "stdout",
     "output_type": "stream",
     "text": [
      "Country:  Philippines\n",
      "R2 Score: \n",
      "0.9331068269915661\n"
     ]
    },
    {
     "data": {
      "image/png": "[encoded data removed]",
      "text/plain": [
       "<Figure size 432x288 with 1 Axes>"
      ]
     },
     "metadata": {
      "needs_background": "light"
     },
     "output_type": "display_data"
    },
    {
     "name": "stdout",
     "output_type": "stream",
     "text": [
      "Country:  Libya\n",
      "R2 Score: \n",
      "0.9183362007984135\n"
     ]
    },
    {
     "data": {
      "image/png": "[encoded data removed]",
      "text/plain": [
       "<Figure size 432x288 with 1 Axes>"
      ]
     },
     "metadata": {
      "needs_background": "light"
     },
     "output_type": "display_data"
    },
    {
     "name": "stdout",
     "output_type": "stream",
     "text": [
      "Country:  Bolivia\n",
      "R2 Score: \n",
      "0.47735601215933965\n"
     ]
    },
    {
     "data": {
      "image/png": "[encoded data removed]",
      "text/plain": [
       "<Figure size 432x288 with 1 Axes>"
      ]
     },
     "metadata": {
      "needs_background": "light"
     },
     "output_type": "display_data"
    },
    {
     "name": "stdout",
     "output_type": "stream",
     "text": [
      "Country:  Iran\n",
      "R2 Score: \n",
      "0.8406095027711321\n"
     ]
    },
    {
     "data": {
      "image/png": "[encoded data removed]",
      "text/plain": [
       "<Figure size 432x288 with 1 Axes>"
      ]
     },
     "metadata": {
      "needs_background": "light"
     },
     "output_type": "display_data"
    }
   ],
   "source": [
    "for country in df_collection:\n",
    "    country_df = df_collection[country]\n",
    "    x = country_df[\"Year\"].astype(\"int\")\n",
    "    y = country_df[\"Immigration\"].astype(\"float\")\n",
    "    model = np.poly1d(np.polyfit(x, y, 5))\n",
    "    line = np.linspace(1980, 2013)\n",
    "    print(\"Country: \", country)\n",
    "    print(\"R2 Score: \")\n",
    "    print(r2_score(y, model(x)))\n",
    "    plt.scatter(x,y)\n",
    "    plt.plot(line, model(line))\n",
    "    plt.show()\n",
    "    models[country] = model"
   ]
  },
  {
   "cell_type": "code",
   "execution_count": 13,
   "metadata": {},
   "outputs": [
    {
     "name": "stdout",
     "output_type": "stream",
     "text": [
      "Year:  1980\n",
      "Singapore :  65.341796875\n",
      "Netherlands :  131.64208984375\n",
      "United Kingdom :  488.0546875\n",
      "Australia :  36.68212890625\n",
      "Sweden :  34.09814453125\n",
      "United States :  34.3153076171875\n",
      "Lebanon :  242.625\n",
      "India :  8.010025024414062\n",
      "Philippines :  114.92578125\n",
      "Libya :  2.3095703125\n",
      "Bolivia :  6.563232421875\n",
      "Iran :  16.678955078125\n",
      "Year:  1981\n",
      "Singapore :  48.2109375\n",
      "Netherlands :  101.43017578125\n",
      "United Kingdom :  309.3515625\n",
      "Australia :  27.40869140625\n",
      "Sweden :  28.31640625\n",
      "United States :  30.68017578125\n",
      "Lebanon :  111.8125\n",
      "India :  7.0821990966796875\n",
      "Philippines :  54.37890625\n",
      "Libya :  1.1712646484375\n",
      "Bolivia :  3.92431640625\n",
      "Iran :  19.53515625\n",
      "Year:  1982\n",
      "Singapore :  46.2421875\n",
      "Netherlands :  78.7958984375\n",
      "United Kingdom :  212.8984375\n",
      "Australia :  21.6845703125\n",
      "Sweden :  24.2344970703125\n",
      "United States :  28.1646728515625\n",
      "Lebanon :  138.90625\n",
      "India :  6.4793243408203125\n",
      "Philippines :  25.3125\n",
      "Libya :  1.092041015625\n",
      "Bolivia :  3.260986328125\n",
      "Iran :  22.33056640625\n",
      "Year:  1983\n",
      "Singapore :  54.63671875\n",
      "Netherlands :  62.3701171875\n",
      "United Kingdom :  177.78125\n",
      "Australia :  18.706787109375\n",
      "Sweden :  21.4927978515625\n",
      "United States :  26.4686279296875\n",
      "Lebanon :  271.71875\n",
      "India :  6.182037353515625\n",
      "Philippines :  19.32421875\n",
      "Libya :  1.7821044921875\n",
      "Bolivia :  3.95751953125\n",
      "Iran :  25.279541015625\n",
      "Year:  1984\n",
      "Singapore :  69.359375\n",
      "Netherlands :  50.9462890625\n",
      "United Kingdom :  186.6171875\n",
      "Australia :  17.77978515625\n",
      "Sweden :  19.78466796875\n",
      "United States :  25.343505859375\n",
      "Lebanon :  467.375\n",
      "India :  6.1693267822265625\n",
      "Philippines :  29.3984375\n",
      "Libya :  3.0042724609375\n",
      "Bolivia :  5.505126953125\n",
      "Iran :  28.531005859375\n",
      "Year:  1985\n",
      "Singapore :  87.16796875\n",
      "Netherlands :  43.4677734375\n",
      "United Kingdom :  224.390625\n",
      "Australia :  18.316162109375\n",
      "Sweden :  18.8424072265625\n",
      "United States :  24.5908203125\n",
      "Lebanon :  690.0625\n",
      "India :  6.4178924560546875\n",
      "Philippines :  49.51953125\n",
      "Libya :  4.560302734375\n",
      "Bolivia :  7.47998046875\n",
      "Iran :  32.181396484375\n",
      "Year:  1986\n",
      "Singapore :  105.408203125\n",
      "Netherlands :  39.02978515625\n",
      "United Kingdom :  278.609375\n",
      "Australia :  19.8203125\n",
      "Sweden :  18.444580078125\n",
      "United States :  24.0499267578125\n",
      "Lebanon :  911.84375\n",
      "India :  6.90313720703125\n",
      "Philippines :  74.8515625\n",
      "Libya :  6.295654296875\n",
      "Bolivia :  9.556396484375\n",
      "Iran :  36.2685546875\n",
      "Year:  1987\n",
      "Singapore :  122.185546875\n",
      "Netherlands :  36.85888671875\n",
      "United Kingdom :  339.2734375\n",
      "Australia :  21.894287109375\n",
      "Sweden :  18.40673828125\n",
      "United States :  23.6005859375\n",
      "Lebanon :  1111.0\n",
      "India :  7.5988006591796875\n",
      "Philippines :  101.6171875\n",
      "Libya :  8.091796875\n",
      "Bolivia :  11.474365234375\n",
      "Iran :  40.797119140625\n",
      "Year:  1988\n",
      "Singapore :  136.056640625\n",
      "Netherlands :  36.30517578125\n",
      "United Kingdom :  398.421875\n",
      "Australia :  24.216552734375\n",
      "Sweden :  18.5784912109375\n",
      "United States :  23.1568603515625\n",
      "Lebanon :  1272.53125\n",
      "India :  8.478057861328125\n",
      "Philippines :  126.84765625\n",
      "Libya :  9.8641357421875\n",
      "Bolivia :  13.0595703125\n",
      "Iran :  45.71875\n",
      "Year:  1989\n",
      "Singapore :  146.1484375\n",
      "Netherlands :  36.83154296875\n",
      "United Kingdom :  449.9765625\n",
      "Australia :  26.5380859375\n",
      "Sweden :  18.8438720703125\n",
      "United States :  22.669189453125\n",
      "Lebanon :  1386.90625\n",
      "India :  9.513229370117188\n",
      "Philippines :  148.4375\n",
      "Libya :  11.5570068359375\n",
      "Bolivia :  14.189697265625\n",
      "Iran :  50.962890625\n",
      "Year:  1990\n",
      "Singapore :  152.01171875\n",
      "Netherlands :  38.0126953125\n",
      "United Kingdom :  489.75\n",
      "Australia :  28.68212890625\n",
      "Sweden :  19.1131591796875\n",
      "United States :  22.10888671875\n",
      "Lebanon :  1448.8125\n",
      "India :  10.676162719726562\n",
      "Philippines :  165.0859375\n",
      "Libya :  13.14306640625\n",
      "Bolivia :  14.8095703125\n",
      "Iran :  56.430419921875\n",
      "Year:  1991\n",
      "Singapore :  153.5625\n",
      "Netherlands :  39.50732421875\n",
      "United Kingdom :  515.2265625\n",
      "Australia :  30.53125\n",
      "Sweden :  19.3258056640625\n",
      "United States :  21.470947265625\n",
      "Lebanon :  1457.96875\n",
      "India :  11.93865966796875\n",
      "Philippines :  176.0703125\n",
      "Libya :  14.6134033203125\n",
      "Bolivia :  14.90625\n",
      "Iran :  62.00390625\n",
      "Year:  1992\n",
      "Singapore :  151.103515625\n",
      "Netherlands :  41.06689453125\n",
      "United Kingdom :  525.03125\n",
      "Australia :  32.026611328125\n",
      "Sweden :  19.4429931640625\n",
      "United States :  20.774169921875\n",
      "Lebanon :  1417.25\n",
      "India :  13.273178100585938\n",
      "Philippines :  181.35546875\n",
      "Libya :  15.980712890625\n",
      "Bolivia :  14.511962890625\n",
      "Iran :  67.552734375\n",
      "Year:  1993\n",
      "Singapore :  145.12890625\n",
      "Netherlands :  42.51708984375\n",
      "United Kingdom :  519.1640625\n",
      "Australia :  33.143310546875\n",
      "Sweden :  19.4449462890625\n",
      "United States :  20.053466796875\n",
      "Lebanon :  1332.96875\n",
      "India :  14.652236938476562\n",
      "Philippines :  181.25390625\n",
      "Libya :  17.272216796875\n",
      "Bolivia :  13.69482421875\n",
      "Iran :  72.93701171875\n",
      "Year:  1994\n",
      "Singapore :  136.44140625\n",
      "Netherlands :  43.75146484375\n",
      "United Kingdom :  498.7109375\n",
      "Australia :  33.902587890625\n",
      "Sweden :  19.33056640625\n",
      "United States :  19.34912109375\n",
      "Lebanon :  1213.3125\n",
      "India :  16.049423217773438\n",
      "Philippines :  176.61328125\n",
      "Libya :  18.5263671875\n",
      "Bolivia :  12.548583984375\n",
      "Iran :  78.0244140625\n",
      "Year:  1995\n",
      "Singapore :  125.90234375\n",
      "Netherlands :  44.70849609375\n",
      "United Kingdom :  465.59375\n",
      "Australia :  34.35986328125\n",
      "Sweden :  19.11279296875\n",
      "United States :  18.71484375\n",
      "Lebanon :  1068.625\n",
      "India :  17.439559936523438\n",
      "Philippines :  168.48046875\n",
      "Libya :  19.7911376953125\n",
      "Bolivia :  11.18798828125\n",
      "Iran :  82.676513671875\n",
      "Year:  1996\n",
      "Singapore :  114.515625\n",
      "Netherlands :  45.384765625\n",
      "United Kingdom :  422.25\n",
      "Australia :  34.58935546875\n",
      "Sweden :  18.8131103515625\n",
      "United States :  18.205322265625\n",
      "Lebanon :  910.15625\n",
      "India :  18.798858642578125\n",
      "Philippines :  158.29296875\n",
      "Libya :  21.1171875\n",
      "Bolivia :  9.73828125\n",
      "Iran :  86.779052734375\n",
      "Year:  1997\n",
      "Singapore :  103.296875\n",
      "Netherlands :  45.798828125\n",
      "United Kingdom :  371.734375\n",
      "Australia :  34.685302734375\n",
      "Sweden :  18.4617919921875\n",
      "United States :  17.880859375\n",
      "Lebanon :  749.90625\n",
      "India :  20.105545043945312\n",
      "Philippines :  147.51171875\n",
      "Libya :  22.5550537109375\n",
      "Bolivia :  8.335693359375\n",
      "Iran :  90.230224609375\n",
      "Year:  1998\n",
      "Singapore :  93.267578125\n",
      "Netherlands :  46.009765625\n",
      "United Kingdom :  317.4296875\n",
      "Australia :  34.747314453125\n",
      "Sweden :  18.09619140625\n",
      "United States :  17.7896728515625\n",
      "Lebanon :  599.6875\n",
      "India :  21.339614868164062\n",
      "Philippines :  137.6953125\n",
      "Libya :  24.158935546875\n",
      "Bolivia :  7.110107421875\n",
      "Iran :  92.95654296875\n",
      "Year:  1999\n",
      "Singapore :  85.3203125\n",
      "Netherlands :  46.07958984375\n",
      "United Kingdom :  262.7109375\n",
      "Australia :  34.885009765625\n",
      "Sweden :  17.752685546875\n",
      "United States :  17.9783935546875\n",
      "Lebanon :  470.3125\n",
      "India :  22.48382568359375\n",
      "Philippines :  130.44140625\n",
      "Libya :  25.9654541015625\n",
      "Bolivia :  6.1796875\n",
      "Iran :  94.91650390625\n",
      "Year:  2000\n",
      "Singapore :  80.20703125\n",
      "Netherlands :  46.08837890625\n",
      "United Kingdom :  210.9296875\n",
      "Australia :  35.1962890625\n",
      "Sweden :  17.4652099609375\n",
      "United States :  18.482421875\n",
      "Lebanon :  371.59375\n",
      "India :  23.5233154296875\n",
      "Philippines :  127.12890625\n",
      "Libya :  28.0108642578125\n",
      "Bolivia :  5.6494140625\n",
      "Iran :  96.1015625\n",
      "Year:  2001\n",
      "Singapore :  78.525390625\n",
      "Netherlands :  46.1005859375\n",
      "United Kingdom :  165.171875\n",
      "Australia :  35.76904296875\n",
      "Sweden :  17.2667236328125\n",
      "United States :  19.3173828125\n",
      "Lebanon :  311.40625\n",
      "India :  24.446533203125\n",
      "Philippines :  129.03125\n",
      "Libya :  30.3145751953125\n",
      "Bolivia :  5.600830078125\n",
      "Iran :  96.55712890625\n",
      "Year:  2002\n",
      "Singapore :  80.560546875\n",
      "Netherlands :  46.17333984375\n",
      "United Kingdom :  128.2109375\n",
      "Australia :  36.67724609375\n",
      "Sweden :  17.181396484375\n",
      "United States :  20.4854736328125\n",
      "Lebanon :  294.8125\n",
      "India :  25.245132446289062\n",
      "Philippines :  137.13671875\n",
      "Libya :  32.8779296875\n",
      "Bolivia :  6.08154296875\n",
      "Iran :  96.369384765625\n",
      "Year:  2003\n",
      "Singapore :  86.302734375\n",
      "Netherlands :  46.3388671875\n",
      "United Kingdom :  101.78125\n",
      "Australia :  37.961181640625\n",
      "Sweden :  17.2198486328125\n",
      "United States :  21.96142578125\n",
      "Lebanon :  323.71875\n",
      "India :  25.914443969726562\n",
      "Philippines :  152.05859375\n",
      "Libya :  35.6796875\n",
      "Bolivia :  7.10107421875\n",
      "Iran :  95.6904296875\n",
      "Year:  2004\n",
      "Singapore :  95.333984375\n",
      "Netherlands :  46.59423828125\n",
      "United Kingdom :  87.34375\n",
      "Australia :  39.625244140625\n",
      "Sweden :  17.3841552734375\n",
      "United States :  23.6947021484375\n",
      "Lebanon :  396.375\n",
      "India :  26.453704833984375\n",
      "Philippines :  173.9609375\n",
      "Libya :  38.6790771484375\n",
      "Bolivia :  8.621337890625\n",
      "Iran :  94.726318359375\n",
      "Year:  2005\n",
      "Singapore :  106.8203125\n",
      "Netherlands :  46.89404296875\n",
      "United Kingdom :  84.8984375\n",
      "Australia :  41.64501953125\n",
      "Sweden :  17.6536865234375\n",
      "United States :  25.6031494140625\n",
      "Lebanon :  506.4375\n",
      "India :  26.866592407226562\n",
      "Philippines :  202.4921875\n",
      "Libya :  41.80322265625\n",
      "Bolivia :  10.555419921875\n",
      "Iran :  93.767333984375\n",
      "Year:  2006\n",
      "Singapore :  119.421875\n",
      "Netherlands :  47.14208984375\n",
      "United Kingdom :  93.6484375\n",
      "Australia :  43.935791015625\n",
      "Sweden :  17.9942626953125\n",
      "United States :  27.5721435546875\n",
      "Lebanon :  642.34375\n",
      "India :  27.161209106445312\n",
      "Philippines :  236.6328125\n",
      "Libya :  44.94873046875\n",
      "Bolivia :  12.7431640625\n",
      "Iran :  93.167724609375\n",
      "Year:  2007\n",
      "Singapore :  131.220703125\n",
      "Netherlands :  47.17578125\n",
      "United Kingdom :  111.140625\n",
      "Australia :  46.35986328125\n",
      "Sweden :  18.3447265625\n",
      "United States :  29.446044921875\n",
      "Lebanon :  786.90625\n",
      "India :  27.3505859375\n",
      "Philippines :  274.734375\n",
      "Libya :  47.9771728515625\n",
      "Bolivia :  14.974853515625\n",
      "Iran :  93.36328125\n",
      "Year:  2008\n",
      "Singapore :  139.7265625\n",
      "Netherlands :  46.75830078125\n",
      "United Kingdom :  133.5390625\n",
      "Australia :  48.723876953125\n",
      "Sweden :  18.6192626953125\n",
      "United States :  31.028076171875\n",
      "Lebanon :  917.0\n",
      "India :  27.452880859375\n",
      "Philippines :  314.265625\n",
      "Libya :  50.711181640625\n",
      "Bolivia :  16.947021484375\n",
      "Iran :  94.893310546875\n",
      "Year:  2009\n",
      "Singapore :  141.736328125\n",
      "Netherlands :  45.57177734375\n",
      "United Kingdom :  155.0\n",
      "Australia :  50.75634765625\n",
      "Sweden :  18.7030029296875\n",
      "United States :  32.074462890625\n",
      "Lebanon :  1001.90625\n",
      "India :  27.491867065429688\n",
      "Philippines :  352.00390625\n",
      "Libya :  52.928955078125\n",
      "Bolivia :  18.2802734375\n",
      "Iran :  98.377685546875\n",
      "Year:  2010\n",
      "Singapore :  133.302734375\n",
      "Netherlands :  43.20654296875\n",
      "United Kingdom :  168.1953125\n",
      "Australia :  52.11181640625\n",
      "Sweden :  18.448974609375\n",
      "United States :  32.2939453125\n",
      "Lebanon :  1003.875\n",
      "India :  27.497055053710938\n",
      "Philippines :  383.52734375\n",
      "Libya :  54.3660888671875\n",
      "Bolivia :  18.51025390625\n",
      "Iran :  104.54736328125\n",
      "Year:  2011\n",
      "Singapore :  109.7109375\n",
      "Netherlands :  39.14697265625\n",
      "United Kingdom :  163.3203125\n",
      "Australia :  52.358154296875\n",
      "Sweden :  17.67578125\n",
      "United States :  31.3348388671875\n",
      "Lebanon :  876.6875\n",
      "India :  27.504013061523438\n",
      "Philippines :  403.5234375\n",
      "Libya :  54.70556640625\n",
      "Bolivia :  17.062744140625\n",
      "Iran :  114.23876953125\n",
      "Year:  2012\n",
      "Singapore :  65.400390625\n",
      "Netherlands :  32.76806640625\n",
      "United Kingdom :  128.3828125\n",
      "Australia :  50.977294921875\n",
      "Sweden :  16.1617431640625\n",
      "United States :  28.7965087890625\n",
      "Lebanon :  565.125\n",
      "India :  27.554916381835938\n",
      "Philippines :  405.5234375\n",
      "Libya :  53.5772705078125\n",
      "Bolivia :  13.26708984375\n",
      "Iran :  128.400634765625\n",
      "Year:  2013\n",
      "Singapore :  -6.150390625\n",
      "Netherlands :  23.3232421875\n",
      "United Kingdom :  48.96875\n",
      "Australia :  47.343505859375\n",
      "Sweden :  13.6474609375\n",
      "United States :  24.21044921875\n",
      "Lebanon :  5.1875\n",
      "India :  27.698501586914062\n",
      "Philippines :  381.84375\n",
      "Libya :  50.555419921875\n",
      "Bolivia :  6.333740234375\n",
      "Iran :  148.10791015625\n",
      "Year:  2014\n",
      "Singapore :  -112.38671875\n",
      "Netherlands :  9.923828125\n",
      "United Kingdom :  -92.140625\n",
      "Australia :  40.732666015625\n",
      "Sweden :  9.8265380859375\n",
      "United States :  17.0411376953125\n",
      "Lebanon :  -877.84375\n",
      "India :  27.990707397460938\n",
      "Philippines :  323.4375\n",
      "Libya :  45.1519775390625\n",
      "Bolivia :  -4.640869140625\n",
      "Iran :  174.5576171875\n",
      "Year:  2015\n",
      "Singapore :  -261.826171875\n"
     ]
    },
    {
     "name": "stdout",
     "output_type": "stream",
     "text": [
      "Netherlands :  -8.44873046875\n",
      "United Kingdom :  -314.8359375\n",
      "Australia :  30.2998046875\n",
      "Sweden :  4.345458984375\n",
      "United States :  6.689453125\n",
      "Lebanon :  -2169.0625\n",
      "India :  28.494644165039062\n",
      "Philippines :  219.98828125\n",
      "Libya :  36.8150634765625\n",
      "Bolivia :  -20.691162109375\n",
      "Iran :  209.087158203125\n",
      "Year:  2016\n",
      "Singapore :  -464.046875\n",
      "Netherlands :  -32.96923828125\n",
      "United Kingdom :  -642.125\n",
      "Australia :  15.088134765625\n",
      "Sweden :  -3.198974609375\n",
      "United States :  -7.520263671875\n",
      "Lebanon :  -3964.90625\n",
      "India :  29.2811279296875\n",
      "Philippines :  59.6640625\n",
      "Libya :  24.926513671875\n",
      "Bolivia :  -42.98779296875\n",
      "Iran :  253.163818359375\n",
      "Year:  2017\n",
      "Singapore :  -729.783203125\n",
      "Netherlands :  -64.9814453125\n",
      "United Kingdom :  -1100.25\n",
      "Australia :  -5.994384765625\n",
      "Sweden :  -13.2630615234375\n",
      "United States :  -26.34375\n",
      "Lebanon :  -6373.5625\n",
      "India :  30.4290771484375\n",
      "Philippines :  -171.0234375\n",
      "Libya :  8.794921875\n",
      "Bolivia :  -72.8427734375\n",
      "Iran :  308.411376953125\n",
      "Year:  2018\n",
      "Singapore :  -1070.998046875\n",
      "Netherlands :  -105.9912109375\n",
      "United Kingdom :  -1718.78125\n",
      "Australia :  -34.17333984375\n",
      "Sweden :  -26.35986328125\n",
      "United States :  -50.61083984375\n",
      "Lebanon :  -9516.25\n",
      "India :  32.02569580078125\n",
      "Philippines :  -487.0546875\n",
      "Libya :  -12.3466796875\n",
      "Bolivia :  -111.716064453125\n",
      "Iran :  376.60400390625\n",
      "Year:  2019\n",
      "Singapore :  -1500.865234375\n",
      "Netherlands :  -157.69384765625\n",
      "United Kingdom :  -2531.125\n",
      "Australia :  -70.81640625\n",
      "Sweden :  -43.06298828125\n",
      "United States :  -81.242919921875\n",
      "Lebanon :  -13526.96875\n",
      "India :  34.16648864746094\n",
      "Philippines :  -905.19140625\n",
      "Libya :  -39.3394775390625\n",
      "Bolivia :  -161.225341796875\n",
      "Iran :  459.6767578125\n",
      "Year:  2020\n",
      "Singapore :  -2034.00390625\n",
      "Netherlands :  -221.96533203125\n",
      "United Kingdom :  -3574.140625\n",
      "Australia :  -117.44384765625\n",
      "Sweden :  -64.0069580078125\n",
      "United States :  -119.2470703125\n",
      "Lebanon :  -18553.5625\n",
      "India :  36.95600891113281\n",
      "Philippines :  -1444.0390625\n",
      "Libya :  -73.1134033203125\n",
      "Bolivia :  -223.15478515625\n",
      "Iran :  559.719482421875\n",
      "Year:  2021\n",
      "Singapore :  -2686.2890625\n",
      "Netherlands :  -300.90234375\n",
      "United Kingdom :  -4888.8046875\n",
      "Australia :  -175.724853515625\n",
      "Sweden :  -89.8951416015625\n",
      "United States :  -165.7244873046875\n",
      "Lebanon :  -24758.25\n",
      "India :  40.508209228515625\n",
      "Philippines :  -2124.1171875\n",
      "Libya :  -114.6807861328125\n",
      "Bolivia :  -299.462158203125\n",
      "Iran :  679.015869140625\n",
      "Year:  2022\n",
      "Singapore :  -3475.0859375\n",
      "Netherlands :  -396.79150390625\n",
      "United Kingdom :  -6520.25\n",
      "Australia :  -247.4970703125\n",
      "Sweden :  -121.4937744140625\n",
      "United States :  -221.87255859375\n",
      "Lebanon :  -32318.59375\n",
      "India :  44.9464111328125\n",
      "Philippines :  -2967.796875\n",
      "Libya :  -165.14306640625\n",
      "Bolivia :  -392.275390625\n",
      "Iran :  820.0009765625\n",
      "Year:  2023\n",
      "Singapore :  -4419.29296875\n",
      "Netherlands :  -512.15966796875\n",
      "United Kingdom :  -8517.890625\n",
      "Australia :  -334.778564453125\n",
      "Sweden :  -159.648193359375\n",
      "United States :  -288.98779296875\n",
      "Lebanon :  -41427.28125\n",
      "India :  50.40362548828125\n",
      "Philippines :  -3999.65625\n",
      "Libya :  -225.6956787109375\n",
      "Bolivia :  -503.91845703125\n",
      "Iran :  985.323486328125\n",
      "Year:  2024\n",
      "Singapore :  -5539.380859375\n",
      "Netherlands :  -649.74755859375\n",
      "United Kingdom :  -10935.65625\n",
      "Australia :  -439.750732421875\n",
      "Sweden :  -205.274658203125\n",
      "United States :  -368.4718017578125\n",
      "Lebanon :  -52294.03125\n",
      "India :  57.02314758300781\n",
      "Philippines :  -5246.45703125\n",
      "Libya :  -297.6324462890625\n",
      "Bolivia :  -636.908203125\n",
      "Iran :  1177.79541015625\n",
      "Year:  2025\n",
      "Singapore :  -6857.39453125\n",
      "Netherlands :  -812.5546875\n",
      "United Kingdom :  -13832.2890625\n",
      "Australia :  -564.7939453125\n",
      "Sweden :  -259.3658447265625\n",
      "United States :  -461.8363037109375\n",
      "Lebanon :  -65144.78125\n",
      "India :  64.95864868164062\n",
      "Philippines :  -6736.953125\n",
      "Libya :  -382.34375\n",
      "Bolivia :  -793.955078125\n",
      "Iran :  1400.4482421875\n",
      "Year:  2026\n",
      "Singapore :  -8397.0625\n",
      "Netherlands :  -1003.81396484375\n",
      "United Kingdom :  -17271.2265625\n",
      "Australia :  -712.47216796875\n",
      "Sweden :  -323.0\n",
      "United States :  -570.703369140625\n",
      "Lebanon :  -80223.21875\n",
      "India :  74.37467956542969\n",
      "Philippines :  -8502.5234375\n",
      "Libya :  -481.327880859375\n",
      "Bolivia :  -977.987060546875\n",
      "Iran :  1656.5078125\n",
      "Year:  2027\n",
      "Singapore :  -10183.890625\n",
      "Netherlands :  -1227.0361328125\n",
      "United Kingdom :  -21321.0859375\n",
      "Australia :  -885.555419921875\n",
      "Sweden :  -397.33447265625\n",
      "United States :  -696.810302734375\n",
      "Lebanon :  -97791.15625\n",
      "India :  85.44650268554688\n",
      "Philippines :  -10576.8046875\n",
      "Libya :  -596.1873779296875\n",
      "Bolivia :  -1192.148681640625\n",
      "Iran :  1949.41015625\n",
      "Year:  2028\n",
      "Singapore :  -12245.1953125\n",
      "Netherlands :  -1485.990234375\n",
      "United Kingdom :  -26055.7890625\n",
      "Australia :  -1087.024169921875\n",
      "Sweden :  -483.61865234375\n",
      "United States :  -842.0150146484375\n",
      "Lebanon :  -118129.40625\n",
      "India :  98.36116027832031\n",
      "Philippines :  -12995.8359375\n",
      "Libya :  -728.637451171875\n",
      "Bolivia :  -1439.800048828125\n",
      "Iran :  2282.810791015625\n",
      "Year:  2029\n",
      "Singapore :  -14610.076171875\n",
      "Netherlands :  -1784.7314453125\n",
      "United Kingdom :  -31554.4921875\n",
      "Australia :  -1320.0625\n",
      "Sweden :  -583.1865234375\n",
      "United States :  -1008.2989501953125\n",
      "Lebanon :  -141537.75\n",
      "India :  113.31707763671875\n",
      "Philippines :  -15798.50390625\n",
      "Libya :  -880.5108642578125\n",
      "Bolivia :  -1724.54052734375\n",
      "Iran :  2660.586181640625\n"
     ]
    }
   ],
   "source": [
    "# Includes predictions for years beyond 2013\n",
    "for year in range(1980, 2030):\n",
    "    print(\"Year: \", year)\n",
    "    for country in models:  \n",
    "        print(country, \": \", models[country](year))"
   ]
  },
  {
   "cell_type": "code",
   "execution_count": null,
   "metadata": {},
   "outputs": [],
   "source": []
  }
 ],
 "metadata": {
  "kernelspec": {
   "display_name": "Python 3",
   "language": "python",
   "name": "python3"
  },
  "language_info": {
   "codemirror_mode": {
    "name": "ipython",
    "version": 3
   },
   "file_extension": ".py",
   "mimetype": "text/x-python",
   "name": "python",
   "nbconvert_exporter": "python",
   "pygments_lexer": "ipython3",
   "version": "3.8.3"
  }
 },
 "nbformat": 4,
 "nbformat_minor": 4
}
