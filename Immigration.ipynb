{
 "cells": [
  {
   "cell_type": "code",
   "execution_count": 1,
   "metadata": {},
   "outputs": [],
   "source": [
    "import numpy as np\n",
    "import pandas as pd\n",
    "import matplotlib.pyplot as plt\n",
    "import seaborn as sns\n",
    "import networkx as nx\n",
    "from sklearn.model_selection import train_test_split, cross_val_score\n",
    "from sklearn.preprocessing import PolynomialFeatures\n",
    "from sklearn.linear_model import LinearRegression\n",
    "from sklearn.metrics import r2_score"
   ]
  },
  {
   "cell_type": "code",
   "execution_count": 2,
   "metadata": {},
   "outputs": [],
   "source": [
    "pd.options.mode.chained_assignment = None  # remove pd indexing warning"
   ]
  },
  {
   "cell_type": "code",
   "execution_count": 3,
   "metadata": {},
   "outputs": [],
   "source": [
    "df = pd.read_excel('Canada.xlsx',\n",
    "                   sheet_name='Canada by Citizenship',\n",
    "                   skiprows = range(20),\n",
    "                   skipfooter = 2)"
   ]
  },
  {
   "cell_type": "code",
   "execution_count": 4,
   "metadata": {
    "scrolled": false
   },
   "outputs": [],
   "source": [
    "columns = ['OdName']\n",
    "for year in range(1980, 2014):\n",
    "    columns.append(year)\n",
    "df = df.filter(columns)"
   ]
  },
  {
   "cell_type": "code",
   "execution_count": 5,
   "metadata": {},
   "outputs": [],
   "source": [
    "'''\n",
    "dictionary of populations for each country we will be use, using 2004 data (in millions)\n",
    "\n",
    "The 4 archetypes:\n",
    "C1 = resource-rich, dense\n",
    "C2 = resource-rich, sparse\n",
    "C3 = resource-poor, dense\n",
    "C4 = resource-poor, sparse\n",
    "'''\n",
    "populations = {\n",
    "    \"Singapore\": ('C1', 4.167),\n",
    "    \"Netherlands\": ('C1', 16.26),\n",
    "    \"United Kingdom\": ('C1', 59.79),\n",
    "    \"Australia\": ('C2', 20.13),\n",
    "    \"Sweden\": ('C2', 8.976),\n",
    "    \"United States\": ('C2', 292.8),\n",
    "    \"Lebanon\": ('C3', 4.569),\n",
    "    \"India\": ('C3', 1131),\n",
    "    \"Philippines\": ('C3', 84.71),\n",
    "    \"Libya\": ('C4', 5.71),\n",
    "    \"Bolivia\": ('C4', 9.069),\n",
    "    \"Iran\": ('C4', 68.95)\n",
    "}"
   ]
  },
  {
   "cell_type": "code",
   "execution_count": 6,
   "metadata": {},
   "outputs": [
    {
     "data": {
      "text/plain": [
       "'\\nPlan: \\n\\nUse supervised learning to predict immigration levels into Atlantis\\n\\nHave 2 developed countries: Atlantis & \\nOther 3 countries are developing\\n\\nWe need a system using our current interfaces to build a turn-based game\\n\\nNeed a way to implement part 1 into an instance of a player, and also\\ninclude a game manager.\\n'"
      ]
     },
     "execution_count": 6,
     "metadata": {},
     "output_type": "execute_result"
    }
   ],
   "source": [
    "'''\n",
    "Plan: \n",
    "\n",
    "Use supervised learning to predict immigration levels into Atlantis\n",
    "\n",
    "Have 2 developed countries: Atlantis & \n",
    "Other 3 countries are developing\n",
    "\n",
    "We need a system using our current interfaces to build a turn-based game\n",
    "\n",
    "Need a way to implement part 1 into an instance of a player, and also\n",
    "include a game manager.\n",
    "'''"
   ]
  },
  {
   "cell_type": "code",
   "execution_count": 7,
   "metadata": {},
   "outputs": [],
   "source": [
    "countries_df = pd.DataFrame()"
   ]
  },
  {
   "cell_type": "code",
   "execution_count": 8,
   "metadata": {},
   "outputs": [],
   "source": [
    "for country in populations:\n",
    "    archetype = populations[country][0]\n",
    "    population = populations[country][1]\n",
    "    \n",
    "    country_df = df.loc[df[\"OdName\"] == country]\n",
    "    country_df['Arch'] = archetype\n",
    "    for year in range(1980, 2014):\n",
    "        country_df[year] /= population\n",
    "        \n",
    "    countries_df = countries_df.append(country_df)"
   ]
  },
  {
   "cell_type": "code",
   "execution_count": 9,
   "metadata": {},
   "outputs": [],
   "source": [
    "# Instead of 16 countries, choosing 4 countries for consistency\n",
    "countries = [\"Sweden\", \"Libya\", \"India\", \"United States\"]\n",
    "df_collection = {}"
   ]
  },
  {
   "cell_type": "code",
   "execution_count": 10,
   "metadata": {},
   "outputs": [],
   "source": [
    "for country in countries:\n",
    "    country_df = pd.DataFrame(columns=['Year', 'Immigration'])\n",
    "    for year in range(1980, 2014):\n",
    "        year_df = pd.DataFrame({\n",
    "            \"Year\": [year],\n",
    "            \"Immigration\": countries_df[countries_df[\"OdName\"] == country][year]\n",
    "        })\n",
    "        country_df = country_df.append(year_df, ignore_index = True)\n",
    "    df_collection[country] = country_df"
   ]
  },
  {
   "cell_type": "code",
   "execution_count": 11,
   "metadata": {},
   "outputs": [],
   "source": [
    "models = {}"
   ]
  },
  {
   "cell_type": "code",
   "execution_count": 12,
   "metadata": {},
   "outputs": [
    {
     "name": "stdout",
     "output_type": "stream",
     "text": [
      "Country:  Sweden\n",
      "R2 Score: \n",
      "0.6275459380770312\n"
     ]
    },
    {
     "data": {
      "image/png": "[encoded data removed]",
      "text/plain": [
       "<Figure size 432x288 with 1 Axes>"
      ]
     },
     "metadata": {
      "needs_background": "light"
     },
     "output_type": "display_data"
    },
    {
     "name": "stdout",
     "output_type": "stream",
     "text": [
      "Country:  Libya\n",
      "R2 Score: \n",
      "0.9183362007984135\n"
     ]
    },
    {
     "data": {
      "image/png": "[encoded data removed]",
      "text/plain": [
       "<Figure size 432x288 with 1 Axes>"
      ]
     },
     "metadata": {
      "needs_background": "light"
     },
     "output_type": "display_data"
    },
    {
     "name": "stdout",
     "output_type": "stream",
     "text": [
      "Country:  India\n",
      "R2 Score: \n",
      "0.920355915680479\n"
     ]
    },
    {
     "data": {
      "image/png": "[encoded data removed]",
      "text/plain": [
       "<Figure size 432x288 with 1 Axes>"
      ]
     },
     "metadata": {
      "needs_background": "light"
     },
     "output_type": "display_data"
    },
    {
     "name": "stdout",
     "output_type": "stream",
     "text": [
      "Country:  United States\n",
      "R2 Score: \n",
      "0.7488103451266153\n"
     ]
    },
    {
     "data": {
      "image/png": "[encoded data removed]",
      "text/plain": [
       "<Figure size 432x288 with 1 Axes>"
      ]
     },
     "metadata": {
      "needs_background": "light"
     },
     "output_type": "display_data"
    }
   ],
   "source": [
    "for country in df_collection:\n",
    "    country_df = df_collection[country]\n",
    "    x = country_df[\"Year\"].astype(\"int\")\n",
    "    y = country_df[\"Immigration\"].astype(\"float\")\n",
    "    model = np.poly1d(np.polyfit(x, y, 5))\n",
    "    line = np.linspace(1980, 2013)\n",
    "    print(\"Country: \", country)\n",
    "    print(\"R2 Score: \")\n",
    "    print(r2_score(y, model(x)))\n",
    "    plt.scatter(x,y)\n",
    "    plt.plot(line, model(line))\n",
    "    plt.show()\n",
    "    models[country] = model"
   ]
  },
  {
   "cell_type": "code",
   "execution_count": 13,
   "metadata": {},
   "outputs": [
    {
     "name": "stdout",
     "output_type": "stream",
     "text": [
      "Year:  1980\n",
      "Sweden :  34.09814453125\n",
      "Libya :  2.3095703125\n",
      "India :  8.010025024414062\n",
      "United States :  34.3153076171875\n",
      "Year:  1981\n",
      "Sweden :  28.31640625\n",
      "Libya :  1.1712646484375\n",
      "India :  7.0821990966796875\n",
      "United States :  30.68017578125\n",
      "Year:  1982\n",
      "Sweden :  24.2344970703125\n",
      "Libya :  1.092041015625\n",
      "India :  6.4793243408203125\n",
      "United States :  28.1646728515625\n",
      "Year:  1983\n",
      "Sweden :  21.4927978515625\n",
      "Libya :  1.7821044921875\n",
      "India :  6.182037353515625\n",
      "United States :  26.4686279296875\n",
      "Year:  1984\n",
      "Sweden :  19.78466796875\n",
      "Libya :  3.0042724609375\n",
      "India :  6.1693267822265625\n",
      "United States :  25.343505859375\n",
      "Year:  1985\n",
      "Sweden :  18.8424072265625\n",
      "Libya :  4.560302734375\n",
      "India :  6.4178924560546875\n",
      "United States :  24.5908203125\n",
      "Year:  1986\n",
      "Sweden :  18.444580078125\n",
      "Libya :  6.295654296875\n",
      "India :  6.90313720703125\n",
      "United States :  24.0499267578125\n",
      "Year:  1987\n",
      "Sweden :  18.40673828125\n",
      "Libya :  8.091796875\n",
      "India :  7.5988006591796875\n",
      "United States :  23.6005859375\n",
      "Year:  1988\n",
      "Sweden :  18.5784912109375\n",
      "Libya :  9.8641357421875\n",
      "India :  8.478057861328125\n",
      "United States :  23.1568603515625\n",
      "Year:  1989\n",
      "Sweden :  18.8438720703125\n",
      "Libya :  11.5570068359375\n",
      "India :  9.513229370117188\n",
      "United States :  22.669189453125\n",
      "Year:  1990\n",
      "Sweden :  19.1131591796875\n",
      "Libya :  13.14306640625\n",
      "India :  10.676162719726562\n",
      "United States :  22.10888671875\n",
      "Year:  1991\n",
      "Sweden :  19.3258056640625\n",
      "Libya :  14.6134033203125\n",
      "India :  11.93865966796875\n",
      "United States :  21.470947265625\n",
      "Year:  1992\n",
      "Sweden :  19.4429931640625\n",
      "Libya :  15.980712890625\n",
      "India :  13.273178100585938\n",
      "United States :  20.774169921875\n",
      "Year:  1993\n",
      "Sweden :  19.4449462890625\n",
      "Libya :  17.272216796875\n",
      "India :  14.652236938476562\n",
      "United States :  20.053466796875\n",
      "Year:  1994\n",
      "Sweden :  19.33056640625\n",
      "Libya :  18.5263671875\n",
      "India :  16.049423217773438\n",
      "United States :  19.34912109375\n",
      "Year:  1995\n",
      "Sweden :  19.11279296875\n",
      "Libya :  19.7911376953125\n",
      "India :  17.439559936523438\n",
      "United States :  18.71484375\n",
      "Year:  1996\n",
      "Sweden :  18.8131103515625\n",
      "Libya :  21.1171875\n",
      "India :  18.798858642578125\n",
      "United States :  18.205322265625\n",
      "Year:  1997\n",
      "Sweden :  18.4617919921875\n",
      "Libya :  22.5550537109375\n",
      "India :  20.105545043945312\n",
      "United States :  17.880859375\n",
      "Year:  1998\n",
      "Sweden :  18.09619140625\n",
      "Libya :  24.158935546875\n",
      "India :  21.339614868164062\n",
      "United States :  17.7896728515625\n",
      "Year:  1999\n",
      "Sweden :  17.752685546875\n",
      "Libya :  25.9654541015625\n",
      "India :  22.48382568359375\n",
      "United States :  17.9783935546875\n",
      "Year:  2000\n",
      "Sweden :  17.4652099609375\n",
      "Libya :  28.0108642578125\n",
      "India :  23.5233154296875\n",
      "United States :  18.482421875\n",
      "Year:  2001\n",
      "Sweden :  17.2667236328125\n",
      "Libya :  30.3145751953125\n",
      "India :  24.446533203125\n",
      "United States :  19.3173828125\n",
      "Year:  2002\n",
      "Sweden :  17.181396484375\n",
      "Libya :  32.8779296875\n",
      "India :  25.245132446289062\n",
      "United States :  20.4854736328125\n",
      "Year:  2003\n",
      "Sweden :  17.2198486328125\n",
      "Libya :  35.6796875\n",
      "India :  25.914443969726562\n",
      "United States :  21.96142578125\n",
      "Year:  2004\n",
      "Sweden :  17.3841552734375\n",
      "Libya :  38.6790771484375\n",
      "India :  26.453704833984375\n",
      "United States :  23.6947021484375\n",
      "Year:  2005\n",
      "Sweden :  17.6536865234375\n",
      "Libya :  41.80322265625\n",
      "India :  26.866592407226562\n",
      "United States :  25.6031494140625\n",
      "Year:  2006\n",
      "Sweden :  17.9942626953125\n",
      "Libya :  44.94873046875\n",
      "India :  27.161209106445312\n",
      "United States :  27.5721435546875\n",
      "Year:  2007\n",
      "Sweden :  18.3447265625\n",
      "Libya :  47.9771728515625\n",
      "India :  27.3505859375\n",
      "United States :  29.446044921875\n",
      "Year:  2008\n",
      "Sweden :  18.6192626953125\n",
      "Libya :  50.711181640625\n",
      "India :  27.452880859375\n",
      "United States :  31.028076171875\n",
      "Year:  2009\n",
      "Sweden :  18.7030029296875\n",
      "Libya :  52.928955078125\n",
      "India :  27.491867065429688\n",
      "United States :  32.074462890625\n",
      "Year:  2010\n",
      "Sweden :  18.448974609375\n",
      "Libya :  54.3660888671875\n",
      "India :  27.497055053710938\n",
      "United States :  32.2939453125\n",
      "Year:  2011\n",
      "Sweden :  17.67578125\n",
      "Libya :  54.70556640625\n",
      "India :  27.504013061523438\n",
      "United States :  31.3348388671875\n",
      "Year:  2012\n",
      "Sweden :  16.1617431640625\n",
      "Libya :  53.5772705078125\n",
      "India :  27.554916381835938\n",
      "United States :  28.7965087890625\n",
      "Year:  2013\n",
      "Sweden :  13.6474609375\n",
      "Libya :  50.555419921875\n",
      "India :  27.698501586914062\n",
      "United States :  24.21044921875\n",
      "Year:  2014\n",
      "Sweden :  9.8265380859375\n",
      "Libya :  45.1519775390625\n",
      "India :  27.990707397460938\n",
      "United States :  17.0411376953125\n",
      "Year:  2015\n",
      "Sweden :  4.345458984375\n",
      "Libya :  36.8150634765625\n",
      "India :  28.494644165039062\n",
      "United States :  6.689453125\n",
      "Year:  2016\n",
      "Sweden :  -3.198974609375\n",
      "Libya :  24.926513671875\n",
      "India :  29.2811279296875\n",
      "United States :  -7.520263671875\n",
      "Year:  2017\n",
      "Sweden :  -13.2630615234375\n",
      "Libya :  8.794921875\n",
      "India :  30.4290771484375\n",
      "United States :  -26.34375\n",
      "Year:  2018\n",
      "Sweden :  -26.35986328125\n",
      "Libya :  -12.3466796875\n",
      "India :  32.02569580078125\n",
      "United States :  -50.61083984375\n",
      "Year:  2019\n",
      "Sweden :  -43.06298828125\n",
      "Libya :  -39.3394775390625\n",
      "India :  34.16648864746094\n",
      "United States :  -81.242919921875\n",
      "Year:  2020\n",
      "Sweden :  -64.0069580078125\n",
      "Libya :  -73.1134033203125\n",
      "India :  36.95600891113281\n",
      "United States :  -119.2470703125\n",
      "Year:  2021\n",
      "Sweden :  -89.8951416015625\n",
      "Libya :  -114.6807861328125\n",
      "India :  40.508209228515625\n",
      "United States :  -165.7244873046875\n",
      "Year:  2022\n",
      "Sweden :  -121.4937744140625\n",
      "Libya :  -165.14306640625\n",
      "India :  44.9464111328125\n",
      "United States :  -221.87255859375\n",
      "Year:  2023\n",
      "Sweden :  -159.648193359375\n",
      "Libya :  -225.6956787109375\n",
      "India :  50.40362548828125\n",
      "United States :  -288.98779296875\n",
      "Year:  2024\n",
      "Sweden :  -205.274658203125\n",
      "Libya :  -297.6324462890625\n",
      "India :  57.02314758300781\n",
      "United States :  -368.4718017578125\n",
      "Year:  2025\n",
      "Sweden :  -259.3658447265625\n",
      "Libya :  -382.34375\n",
      "India :  64.95864868164062\n",
      "United States :  -461.8363037109375\n",
      "Year:  2026\n",
      "Sweden :  -323.0\n",
      "Libya :  -481.327880859375\n",
      "India :  74.37467956542969\n",
      "United States :  -570.703369140625\n",
      "Year:  2027\n",
      "Sweden :  -397.33447265625\n",
      "Libya :  -596.1873779296875\n",
      "India :  85.44650268554688\n",
      "United States :  -696.810302734375\n",
      "Year:  2028\n",
      "Sweden :  -483.61865234375\n",
      "Libya :  -728.637451171875\n",
      "India :  98.36116027832031\n",
      "United States :  -842.0150146484375\n",
      "Year:  2029\n",
      "Sweden :  -583.1865234375\n",
      "Libya :  -880.5108642578125\n",
      "India :  113.31707763671875\n",
      "United States :  -1008.2989501953125\n"
     ]
    }
   ],
   "source": [
    "# Predictions for 2021\n",
    "for year in range(1980, 2030):\n",
    "    print(\"Year: \", year)\n",
    "    for country in models:  \n",
    "        print(country, \": \", models[country](year))"
   ]
  },
  {
   "cell_type": "code",
   "execution_count": null,
   "metadata": {},
   "outputs": [],
   "source": []
  }
 ],
 "metadata": {
  "kernelspec": {
   "display_name": "Python 3",
   "language": "python",
   "name": "python3"
  },
  "language_info": {
   "codemirror_mode": {
    "name": "ipython",
    "version": 3
   },
   "file_extension": ".py",
   "mimetype": "text/x-python",
   "name": "python",
   "nbconvert_exporter": "python",
   "pygments_lexer": "ipython3",
   "version": "3.8.3"
  }
 },
 "nbformat": 4,
 "nbformat_minor": 4
}
